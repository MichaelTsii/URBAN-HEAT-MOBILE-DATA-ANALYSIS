{
 "cells": [
  {
   "cell_type": "markdown",
   "metadata": {},
   "source": [
    "轨迹数据的读取与预处理"
   ]
  },
  {
   "cell_type": "code",
   "execution_count": 9,
   "metadata": {},
   "outputs": [],
   "source": [
    "import datetime\n",
    "import numpy as np\n",
    "import matplotlib.pyplot as plt\n",
    "from collections import Counter\n",
    "from tqdm import tqdm\n",
    "\n",
    "# 参数设定\n",
    "city = 'shenzhen'\n",
    "GRID_SIZE = 50  # meter\n",
    "target_dt = datetime.datetime(2018, 9, 6, 12, 0)"
   ]
  },
  {
   "cell_type": "code",
   "execution_count": 10,
   "metadata": {},
   "outputs": [],
   "source": [
    "# 区域边界\n",
    "if city == 'beijing':\n",
    "    lon_l, lon_r, lat_b, lat_u = 115.43, 117.52, 39.44, 41.05\n",
    "if city == 'shanghai':\n",
    "    lon_l, lon_r, lat_b, lat_u = 120.836619, 122.165824, 30.631414, 31.7 #31.883925\n",
    "if city == 'shenzhen':\n",
    "    lon_l, lon_r, lat_b, lat_u = 113.70, 114.70, 22.45, 22.85\n",
    "GRID_SIZE = 50  # Meter\n",
    "\n",
    "# 经纬度步长计算\n",
    "earth_radius = 6378137.0\n",
    "pi = 3.1415926535897932384626\n",
    "meter_per_degree = earth_radius * pi / 180.0\n",
    "lat_step = GRID_SIZE * (1.0 / meter_per_degree)\n",
    "ratio = np.cos((lat_b + lat_u) * np.pi / 360)\n",
    "lon_step = lat_step / ratio\n",
    "lat_split = int(np.ceil((lat_u - lat_b) / lat_step))\n",
    "lon_split = int(np.ceil((lon_r - lon_l) / lon_step))\n",
    "\n",
    "# 起始时间（小时偏移起点）\n",
    "t0 = datetime.datetime.strptime('20180101 00:00:00', \"%Y%m%d %H:%M:%S\")\n",
    "\n",
    "# 读取函数\n",
    "def read_from_text(file):\n",
    "    for line in file:\n",
    "        yield line.strip('\\r\\n').split('\\t')\n",
    "\n",
    "# 映射回真实经纬度（用于可视化时反查）\n",
    "def index_to_lon(x_idx):\n",
    "    return lon_l + x_idx * lon_step\n",
    "\n",
    "def index_to_lat(y_idx):\n",
    "    return lat_b + y_idx * lat_step"
   ]
  },
  {
   "cell_type": "code",
   "execution_count": null,
   "metadata": {},
   "outputs": [],
   "source": [
    "# 人口热力计数器\n",
    "user_move = {}\n",
    "user_num = 0\n",
    "\n",
    "# 读取并处理数据\n",
    "with open(f'./record/record_{city}.txt', 'r') as file:\n",
    "    for trace in tqdm(read_from_text(file), desc=\"Processing traces\"):\n",
    "        uid, trace = trace\n",
    "        trace = trace.split('|')\n",
    "\n",
    "        t_list = [int(trace[i]) for i in range(0, len(trace), 3)]\n",
    "        x_idx_list = [float(trace[i]) for i in range(1, len(trace), 3)]\n",
    "        y_idx_list = [float(trace[i]) for i in range(2, len(trace), 3)]\n",
    "\n",
    "        n = 0\n",
    "        for t, x_idx, y_idx in zip(t_list, x_idx_list, y_idx_list):\n",
    "            dt = t0 + datetime.timedelta(hours=t)\n",
    "            if dt == target_dt and (t + 2 in t_list):\n",
    "                user_num += 1\n",
    "                xi, yi = int(x_idx), int(y_idx)\n",
    "                if n+2 < len(t_list) and t_list[n+2] == t + 2:\n",
    "                    xi_2, yi_2 = int(x_idx_list[n+2]), int(y_idx_list[n+2])\n",
    "                elif t_list[n+1] == t + 2:\n",
    "                    xi_2, yi_2 = int(x_idx_list[n+1]), int(y_idx_list[n+1])\n",
    "\n",
    "                if 0 <= xi < lon_split and 0 <= yi < lat_split and 0 <= xi_2 < lon_split and 0 <= yi_2 < lat_split:\n",
    "                    user_move[uid] = (xi, yi, xi_2, yi_2)\n",
    "                \n",
    "                break\n",
    "            \n",
    "            n += 1"
   ]
  },
  {
   "cell_type": "code",
   "execution_count": null,
   "metadata": {},
   "outputs": [],
   "source": [
    "lon_split"
   ]
  },
  {
   "cell_type": "code",
   "execution_count": null,
   "metadata": {},
   "outputs": [],
   "source": [
    "import pickle\n",
    "\n",
    "with open(f'./user_move/move_{city}_{target_dt.strftime(\"%Y%m%d_%H%M\")}.pkl', 'wb') as f:\n",
    "    pickle.dump(user_move, f)\n",
    "\n",
    "print(len(user_move))"
   ]
  }
 ],
 "metadata": {
  "kernelspec": {
   "display_name": "Traffic_LLM_Tsii",
   "language": "python",
   "name": "python3"
  },
  "language_info": {
   "codemirror_mode": {
    "name": "ipython",
    "version": 3
   },
   "file_extension": ".py",
   "mimetype": "text/x-python",
   "name": "python",
   "nbconvert_exporter": "python",
   "pygments_lexer": "ipython3",
   "version": "3.10.14"
  }
 },
 "nbformat": 4,
 "nbformat_minor": 2
}
