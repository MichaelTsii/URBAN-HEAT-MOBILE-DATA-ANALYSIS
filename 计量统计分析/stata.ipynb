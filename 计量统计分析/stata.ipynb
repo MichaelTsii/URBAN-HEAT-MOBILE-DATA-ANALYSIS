{
 "cells": [
  {
   "cell_type": "code",
   "execution_count": 2,
   "metadata": {},
   "outputs": [
    {
     "name": "stdout",
     "output_type": "stream",
     "text": [
      "                            OLS Regression Results                            \n",
      "==============================================================================\n",
      "Dep. Variable:                  steps   R-squared:                       0.000\n",
      "Model:                            OLS   Adj. R-squared:                  0.000\n",
      "Method:                 Least Squares   F-statistic:                     1862.\n",
      "Date:                Thu, 05 Jun 2025   Prob (F-statistic):               0.00\n",
      "Time:                        04:48:40   Log-Likelihood:            -2.3471e+08\n",
      "No. Observations:            18425759   AIC:                         4.694e+08\n",
      "Df Residuals:                18425754   BIC:                         4.694e+08\n",
      "Df Model:                           4                                         \n",
      "Covariance Type:            nonrobust                                         \n",
      "==============================================================================\n",
      "                 coef    std err          t      P>|t|      [0.025      0.975]\n",
      "------------------------------------------------------------------------------\n",
      "const       1.903e+04    140.613    135.337      0.000    1.88e+04    1.93e+04\n",
      "tmp_start    -76.8794      2.409    -31.908      0.000     -81.602     -72.157\n",
      "tmp_end       40.9623      2.420     16.930      0.000      36.220      45.705\n",
      "weeknum     -367.7766     23.144    -15.891      0.000    -413.138    -322.416\n",
      "clock        443.9442      6.073     73.103      0.000     432.042     455.847\n",
      "==============================================================================\n",
      "Omnibus:                 26744159.942   Durbin-Watson:                   1.107\n",
      "Prob(Omnibus):                  0.000   Jarque-Bera (JB):      11206282082.730\n",
      "Skew:                           8.793   Prob(JB):                         0.00\n",
      "Kurtosis:                     122.529   Cond. No.                         418.\n",
      "==============================================================================\n",
      "\n",
      "Notes:\n",
      "[1] Standard Errors assume that the covariance matrix of the errors is correctly specified.\n"
     ]
    }
   ],
   "source": [
    "import numpy as np\n",
    "import glob\n",
    "import statsmodels.api as sm\n",
    "import pandas as pd\n",
    "\n",
    "# 1. 加载所有 npz 文件\n",
    "file_paths = glob.glob('./stata/stata_*.npz')\n",
    "\n",
    "all_steps = []\n",
    "all_tmp_start = []\n",
    "all_tmp_end = []\n",
    "all_weeknum = []\n",
    "all_clock = []\n",
    "\n",
    "# 2. 合并数据\n",
    "for path in file_paths:\n",
    "    data = np.load(path)\n",
    "    all_steps.append(data['steps'])\n",
    "    all_tmp_start.append(data['tmp_start'])\n",
    "    all_tmp_end.append(data['tmp_end'])\n",
    "    all_weeknum.append(data['weeknum'])\n",
    "    all_clock.append(data['clock'])\n",
    "\n",
    "# 3. 拼接为一维数组\n",
    "all_steps = np.concatenate(all_steps)\n",
    "all_tmp_start = np.concatenate(all_tmp_start)\n",
    "all_tmp_end = np.concatenate(all_tmp_end)\n",
    "all_weeknum = np.concatenate(all_weeknum)\n",
    "all_clock = np.concatenate(all_clock)\n",
    "\n",
    "# 4. 构建 DataFrame（方便变量命名和回归结果展示）\n",
    "df = pd.DataFrame({\n",
    "    'steps': all_steps,\n",
    "    'tmp_start': all_tmp_start,\n",
    "    'tmp_end': all_tmp_end,\n",
    "    'weeknum': all_weeknum,\n",
    "    'clock': all_clock\n",
    "})\n",
    "\n",
    "# 5. 添加常数项（相当于截距）\n",
    "X = df[['tmp_start', 'tmp_end', 'weeknum', 'clock']]\n",
    "X = sm.add_constant(X)\n",
    "y = df['steps']\n",
    "\n",
    "# 6. 拟合 OLS 模型\n",
    "model = sm.OLS(y, X).fit()\n",
    "\n",
    "# 7. 打印结果\n",
    "print(model.summary())\n"
   ]
  }
 ],
 "metadata": {
  "kernelspec": {
   "display_name": "Traffic_LLM_Tsii",
   "language": "python",
   "name": "python3"
  },
  "language_info": {
   "codemirror_mode": {
    "name": "ipython",
    "version": 3
   },
   "file_extension": ".py",
   "mimetype": "text/x-python",
   "name": "python",
   "nbconvert_exporter": "python",
   "pygments_lexer": "ipython3",
   "version": "3.10.14"
  }
 },
 "nbformat": 4,
 "nbformat_minor": 2
}
