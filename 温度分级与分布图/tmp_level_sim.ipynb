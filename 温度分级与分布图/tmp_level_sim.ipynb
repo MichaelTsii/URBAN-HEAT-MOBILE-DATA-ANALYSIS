{
 "cells": [
  {
   "cell_type": "code",
   "execution_count": 13,
   "metadata": {},
   "outputs": [],
   "source": [
    "import pandas as pd\n",
    "import numpy as np\n",
    "from datetime import datetime\n",
    "from scipy.interpolate import griddata\n",
    "import ast\n",
    "import os\n",
    "\n",
    "# 设置目标时间和城市\n",
    "target_dt = datetime.strptime(\"2018-09-21\", \"%Y-%m-%d\")\n",
    "city = \"shanghai\"\n",
    "day_of_year = target_dt.timetuple().tm_yday"
   ]
  },
  {
   "cell_type": "code",
   "execution_count": 14,
   "metadata": {},
   "outputs": [],
   "source": [
    "# 读取数据\n",
    "df = pd.read_csv(f\"{city}_trims_with_simulations.csv\")\n",
    "df = df[df['date'] == f'{day_of_year}D'].copy()\n",
    "df['lat'] = df['latitude'] / 10000\n",
    "df['lon'] = df['longitude'] / 10000\n",
    "\n",
    "# 解析字符串为列表\n",
    "df['sim_values'] = df['TRIMS_LST_SIM'].apply(lambda x: np.array(ast.literal_eval(x)))\n",
    "# 计算偏移\n",
    "df['offset'] = df['TRIMS_LST'] - df['sim_values'].apply(lambda x: np.max(x))\n",
    "# 应用偏移修正\n",
    "df['adjusted_sims'] = df.apply(lambda row: row['sim_values'] + row['offset'], axis=1)\n",
    "\n",
    "# 区域边界\n",
    "if city == 'beijing':\n",
    "    lon_l, lon_r, lat_b, lat_u = 115.43, 117.52, 39.44, 41.05\n",
    "elif city == 'shanghai':\n",
    "    lon_l, lon_r, lat_b, lat_u = 120.836619, 122.165824, 30.631414, 31.7\n",
    "elif city == 'shenzhen':\n",
    "    lon_l, lon_r, lat_b, lat_u = 113.70, 114.70, 22.45, 22.85\n",
    "\n",
    "# 网格设置\n",
    "GRID_SIZE = 50  # 米\n",
    "earth_radius = 6378137.0\n",
    "pi = np.pi\n",
    "meter_per_degree = earth_radius * pi / 180.0\n",
    "lat_step = GRID_SIZE / meter_per_degree\n",
    "ratio = np.cos((lat_b + lat_u) * pi / 360)\n",
    "lon_step = lat_step / ratio\n",
    "\n",
    "grid_lat = np.arange(lat_b, lat_u, lat_step)\n",
    "grid_lon = np.arange(lon_l, lon_r, lon_step)\n",
    "grid_x, grid_y = np.meshgrid(grid_lon, grid_lat)\n",
    "\n",
    "H, W = grid_x.shape\n",
    "T = 12  # 12小时\n",
    "\n",
    "temperature_cube = np.full((T, H, W), np.nan)"
   ]
  },
  {
   "cell_type": "code",
   "execution_count": 15,
   "metadata": {},
   "outputs": [
    {
     "name": "stdout",
     "output_type": "stream",
     "text": [
      "Saved temperature grid to ./tmp_sim/tmp_sim_shanghai_20180921_cube.npy\n"
     ]
    }
   ],
   "source": [
    "# 插值并填充12个时间步\n",
    "for t in range(T):\n",
    "    values = df['adjusted_sims'].apply(lambda x: x[t]).values\n",
    "    points = df[['lon', 'lat']].values\n",
    "    grid_z = griddata(points, values, (grid_x, grid_y), method='cubic')\n",
    "\n",
    "    # 保真处理\n",
    "    for idx, row in df.iterrows():\n",
    "        i = int((row['lat'] - lat_b) / lat_step)\n",
    "        j = int((row['lon'] - lon_l) / lon_step)\n",
    "        if 0 <= i < H and 0 <= j < W:\n",
    "            grid_z[i, j] = row['adjusted_sims'][t]\n",
    "    \n",
    "    temperature_cube[t] = grid_z\n",
    "\n",
    "# 保存为npy\n",
    "output_path = f'./tmp_sim/tmp_sim_{city}_{target_dt.strftime(\"%Y%m%d\")}_cube.npy'\n",
    "os.makedirs(os.path.dirname(output_path), exist_ok=True)\n",
    "np.save(output_path, temperature_cube)\n",
    "print(f\"Saved temperature grid to {output_path}\")"
   ]
  }
 ],
 "metadata": {
  "kernelspec": {
   "display_name": "Traffic_LLM_Tsii",
   "language": "python",
   "name": "python3"
  },
  "language_info": {
   "codemirror_mode": {
    "name": "ipython",
    "version": 3
   },
   "file_extension": ".py",
   "mimetype": "text/x-python",
   "name": "python",
   "nbconvert_exporter": "python",
   "pygments_lexer": "ipython3",
   "version": "3.10.14"
  }
 },
 "nbformat": 4,
 "nbformat_minor": 2
}
